{
 "cells": [
  {
   "cell_type": "code",
   "execution_count": 13,
   "metadata": {},
   "outputs": [],
   "source": [
    "# Add the Pandas dependency.\n",
    "import pandas as pd"
   ]
  },
  {
   "cell_type": "code",
   "execution_count": 14,
   "metadata": {},
   "outputs": [
    {
     "ename": "NameError",
     "evalue": "name 'student_data_df' is not defined",
     "output_type": "error",
     "traceback": [
      "\u001b[0;31m---------------------------------------------------------------------------\u001b[0m",
      "\u001b[0;31mNameError\u001b[0m                                 Traceback (most recent call last)",
      "\u001b[0;32m<ipython-input-14-feb1321fc69d>\u001b[0m in \u001b[0;36m<module>\u001b[0;34m\u001b[0m\n\u001b[1;32m     21\u001b[0m \u001b[0;31m# Combine the data into a single dataset.\u001b[0m\u001b[0;34m\u001b[0m\u001b[0;34m\u001b[0m\u001b[0;34m\u001b[0m\u001b[0m\n\u001b[1;32m     22\u001b[0m \u001b[0;31m# head() returns the top 5 rows\u001b[0m\u001b[0;34m\u001b[0m\u001b[0;34m\u001b[0m\u001b[0;34m\u001b[0m\u001b[0m\n\u001b[0;32m---> 23\u001b[0;31m \u001b[0mschool_data_complete_df\u001b[0m \u001b[0;34m=\u001b[0m \u001b[0mpd\u001b[0m\u001b[0;34m.\u001b[0m\u001b[0mmerge\u001b[0m\u001b[0;34m(\u001b[0m\u001b[0mstudent_data_df\u001b[0m\u001b[0;34m,\u001b[0m \u001b[0mschool_data_df\u001b[0m\u001b[0;34m,\u001b[0m \u001b[0mon\u001b[0m\u001b[0;34m=\u001b[0m\u001b[0;34m[\u001b[0m\u001b[0;34m\"school_name\"\u001b[0m\u001b[0;34m,\u001b[0m \u001b[0;34m\"school_name\"\u001b[0m\u001b[0;34m]\u001b[0m\u001b[0;34m)\u001b[0m\u001b[0;34m\u001b[0m\u001b[0;34m\u001b[0m\u001b[0m\n\u001b[0m\u001b[1;32m     24\u001b[0m \u001b[0;31m#school_data_complete_df.head()\u001b[0m\u001b[0;34m\u001b[0m\u001b[0;34m\u001b[0m\u001b[0;34m\u001b[0m\u001b[0m\n\u001b[1;32m     25\u001b[0m \u001b[0;34m\u001b[0m\u001b[0m\n",
      "\u001b[0;31mNameError\u001b[0m: name 'student_data_df' is not defined"
     ]
    }
   ],
   "source": [
    "# Files to load\n",
    "school_data_to_load = \"Resources/schools_complete.csv\"\n",
    "\n",
    "student_data_to_load = \"Resources/students_complete.csv\"\n",
    "\n",
    "# Read the school data file and store it in a Pandas DataFrame. Section 4.4.3\n",
    "# This code will allow us to read \"schools_complete.csv\" the read_csv() replaces teh pd.DataFrame()\n",
    "# The read_csv() makes it easier for us by converting the CSV file to a DataFrame.\n",
    "# Example school_data_df is the varible, pd.read_csv() command using \"school_data_to_load\" via csv\n",
    "# SCHOOL DATA CSV\n",
    "school_data_df = pd.read_csv(school_data_to_load)\n",
    "\n",
    "#We'll merge school_data_df and student_data_dfon a shared column using the merge() method. \n",
    "#The column that these DataFrames have in common is school_name. \n",
    "#Inside the parentheses of the merge() method, we'll do the following:\n",
    "\n",
    "#1. Add the DataFrames to be merged.\n",
    "#2. Add the shared column to each DataFrame so that the merge can occur.\n",
    "#3. Define how the DataFrames should be merged: left, right, inner, or outer. The default is inner. \n",
    "\n",
    "# Combine the data into a single dataset.\n",
    "# head() returns the top 5 rows\n",
    "school_data_complete_df = pd.merge(student_data_df, school_data_df, on=[\"school_name\", \"school_name\"])\n",
    "#school_data_complete_df.head()\n",
    "\n",
    "#We create a new DataFrame for the merged DataFrames, called school_data_complete_df.\n",
    "#The new DataFrame is created as a result of merging DataFrame #2 (school_data_df), which is the \"right\" DataFrame, \n",
    "#into DataFrame #1 (student_data_df), which is the \"left\" DataFrame.\n",
    "#We refer to the DataFrames as \"left\" and \"right\" to reflect the order they appear inside the parentheses.\n",
    "#We use the parameter \"on,\" which is equal to a list of the columns that are identical from each DataFrame, \n",
    "#in this case, \"school_name.\" We can also use the column name like this: on=\"school_name\".\n",
    "\n",
    "#STUDENT DATA\n",
    "# Read the student data file and store it in a Pandas DataFrame.\n",
    "student_data_df = pd.read_csv(student_data_to_load)\n",
    "\n",
    "# Cleaning Student Names and Replacing Substrings in a Python String\n",
    "# Add each prefix and suffix to remove to a list.\n",
    "prefixes_suffixes = [\"Dr. \", \"Mr. \",\"Ms. \", \"Mrs. \", \"Miss \", \" MD\", \" DDS\", \" DVM\", \" PhD\"]\n",
    "\n",
    "# Iterate through the words in the \"prefixes_suffixes\" list and replace them with an empty space, \"\".\n",
    "for word in prefixes_suffixes:\n",
    "    student_data_df[\"student_name\"] = student_data_df[\"student_name\"].str.replace(word,\"\")\n",
    "\n",
    "# Check names.\n",
    "student_data_df\n"
   ]
  },
  {
   "cell_type": "code",
   "execution_count": 12,
   "metadata": {},
   "outputs": [],
   "source": [
    "# Install numpy using conda install numpy or pip install numpy. \n",
    "# Step 1. Import numpy as np.\n",
    "import numpy as np"
   ]
  },
  {
   "cell_type": "code",
   "execution_count": 10,
   "metadata": {},
   "outputs": [
    {
     "ename": "NameError",
     "evalue": "name 'student_data_df' is not defined",
     "output_type": "error",
     "traceback": [
      "\u001b[0;31m---------------------------------------------------------------------------\u001b[0m",
      "\u001b[0;31mNameError\u001b[0m                                 Traceback (most recent call last)",
      "\u001b[0;32m<ipython-input-10-8bb2af902b00>\u001b[0m in \u001b[0;36m<module>\u001b[0;34m\u001b[0m\n\u001b[1;32m      1\u001b[0m \u001b[0;31m# Step 2. Use the loc method on the student_data_df to select all the reading scores from the 9th grade at Thomas High School and replace them with NaN.\u001b[0m\u001b[0;34m\u001b[0m\u001b[0;34m\u001b[0m\u001b[0;34m\u001b[0m\u001b[0m\n\u001b[0;32m----> 2\u001b[0;31m \u001b[0mstudent_data_readsc\u001b[0m\u001b[0;34m=\u001b[0m\u001b[0mstudent_data_df\u001b[0m\u001b[0;34m.\u001b[0m\u001b[0mloc\u001b[0m\u001b[0;34m[\u001b[0m\u001b[0;34m(\u001b[0m\u001b[0;34m(\u001b[0m\u001b[0mstudent_data_df\u001b[0m\u001b[0;34m[\u001b[0m\u001b[0;34m\"school_name\"\u001b[0m\u001b[0;34m]\u001b[0m \u001b[0;34m==\u001b[0m \u001b[0;34m\"Thomas High School\"\u001b[0m\u001b[0;34m)\u001b[0m \u001b[0;34m&\u001b[0m \u001b[0;34m(\u001b[0m\u001b[0mstudent_data_df\u001b[0m\u001b[0;34m[\u001b[0m\u001b[0;34m\"grade\"\u001b[0m\u001b[0;34m]\u001b[0m \u001b[0;34m==\u001b[0m \u001b[0;34m\"9th\"\u001b[0m\u001b[0;34m)\u001b[0m\u001b[0;34m)\u001b[0m\u001b[0;34m]\u001b[0m\u001b[0;34m\u001b[0m\u001b[0;34m\u001b[0m\u001b[0m\n\u001b[0m\u001b[1;32m      3\u001b[0m \u001b[0;34m\u001b[0m\u001b[0m\n\u001b[1;32m      4\u001b[0m \u001b[0mstudent_data_readsc\u001b[0m\u001b[0;34m\u001b[0m\u001b[0;34m\u001b[0m\u001b[0m\n",
      "\u001b[0;31mNameError\u001b[0m: name 'student_data_df' is not defined"
     ]
    }
   ],
   "source": [
    "# Step 2. Use the loc method on the student_data_df to select all the reading scores from the 9th grade at Thomas High School and replace them with NaN.\n",
    "student_data_readsc=student_data_df.loc[((student_data_df[\"school_name\"] == \"Thomas High School\") & (student_data_df[\"grade\"] == \"9th\"))]\n",
    "\n",
    "student_data_readsc"
   ]
  },
  {
   "cell_type": "code",
   "execution_count": null,
   "metadata": {},
   "outputs": [],
   "source": [
    "#  Step 3. Refactor the code in Step 2 to replace the math scores with NaN.\n",
    "student_data_df.loc[((student_data_df[\"school_name\"] == \"Thomas High School\") & (student_data_df[\"grade\"] == \"9th\")),\"math_score\"]= np.nan\n",
    "student_data_df"
   ]
  },
  {
   "cell_type": "code",
   "execution_count": null,
   "metadata": {},
   "outputs": [],
   "source": [
    "#  Step 4. Check the student data for NaN's. "
   ]
  },
  {
   "cell_type": "code",
   "execution_count": null,
   "metadata": {},
   "outputs": [],
   "source": [
    "#the count() method to the school_data_complete_df DataFrame, \n",
    "#we will count all the items in each row for each column that is not null. \n",
    "\n",
    "# Get the total number of students.\n",
    "student_count = school_data_complete_df.count()\n",
    "student_count"
   ]
  },
  {
   "cell_type": "code",
   "execution_count": null,
   "metadata": {},
   "outputs": [],
   "source": [
    "#In the output, we see that each column has 39,170 rows, or values. \n",
    "#Therefore, we can choose any one of the columns and get the student count using the following format:\n",
    "\n",
    "#school_data_complete_df[column].count()\n",
    "#To assign the \"student_count\" to a column that identifies with students, we will use the \"Student ID\" column.\n",
    "\n",
    "school_data_complete_df[\"Student ID\"].count()\n",
    "#must use single or double quotation marks"
   ]
  },
  {
   "cell_type": "code",
   "execution_count": null,
   "metadata": {},
   "outputs": [],
   "source": [
    "#SECTION 4.7.3 GET THE NUMBER OF SCHOOLS\n"
   ]
  },
  {
   "cell_type": "code",
   "execution_count": null,
   "metadata": {},
   "outputs": [],
   "source": [
    "#There are two ways we can get the number of schools. \n",
    "\n",
    "#FIRST WAY One is to use the school_data_df DataFrame and assign a variable to one of the columns in the DataFrame\n",
    "\n",
    "# Calculate the total number of schools.\n",
    "school_count = school_data_df[\"school_name\"].count()\n",
    "school_count"
   ]
  },
  {
   "cell_type": "code",
   "execution_count": null,
   "metadata": {},
   "outputs": [],
   "source": [
    "#SECOND WAY \n",
    "# Calculate the total number of schools\n",
    "school_count_2 = school_data_complete_df[\"school_name\"].unique()\n",
    "school_count_2\n",
    "#We have to use .unique() if just use the count() it would count each school for total of 39170"
   ]
  },
  {
   "cell_type": "code",
   "execution_count": null,
   "metadata": {},
   "outputs": [],
   "source": [
    "len(school_data_complete_df[\"school_name\"].unique())\n",
    "#we can use the len chain with .unique to get the count from the list / array"
   ]
  },
  {
   "cell_type": "code",
   "execution_count": null,
   "metadata": {},
   "outputs": [],
   "source": [
    "#SECTION 4.7.4 Get the Total Budget\n",
    "\n",
    "# Calculate the total budget.\n",
    "total_budget = school_data_df[\"budget\"].sum()\n",
    "total_budget\n",
    "\n",
    "#we are using this on the orginal \"school_data_df\" and NOT the merge \"school_data_complete_df\""
   ]
  },
  {
   "cell_type": "code",
   "execution_count": null,
   "metadata": {},
   "outputs": [],
   "source": [
    "#The total budget of the schools in the district is $24,649,428. Your output should match the sum of E3:E16 in the schools_complete.csv file. \n",
    "#This is a good way to check that our answer matches the CSV file. "
   ]
  },
  {
   "cell_type": "code",
   "execution_count": null,
   "metadata": {},
   "outputs": [],
   "source": [
    "#SECTION 4.7.5 GET THE SCORE AVERAGES\n",
    "#THE INSTRUCTION SAY TO USE \"STUDENT_DATA.CSV\" but we only have \"students_complete.csv\"\n",
    "#The Pandas method for getting the average of columns is the mean() method.\n",
    "\n",
    "# Calculate the average reading score.\n",
    "average_reading_score = school_data_complete_df[\"reading_score\"].mean()\n",
    "average_reading_score"
   ]
  },
  {
   "cell_type": "code",
   "execution_count": null,
   "metadata": {},
   "outputs": [],
   "source": [
    "# Calculate the average math score.\n",
    "average_math_score = school_data_complete_df[\"math_score\"].mean()\n",
    "average_math_score"
   ]
  },
  {
   "cell_type": "code",
   "execution_count": null,
   "metadata": {},
   "outputs": [],
   "source": [
    "#SECTION 4.7.6 GET THE PASSING PERCENTAGES\n",
    "\n",
    "#To get the percentage of students who passed math and reading, we will write code to:\n",
    "\n",
    "#Determine the passing grade.\n",
    "#Get the number of students who passed math and reading in separate DataFrames.\n",
    "#Calculate the number of students who passed math and reading.\n",
    "#Calculate the percentage of students who passed math and reading.\n",
    "#To get the overall passing percentage, we will write code to:\n",
    "\n",
    "#Get the number of students who passed both math and reading in a DataFrame.\n",
    "#Calculate the number of students who passed both math and reading.\n",
    "#Calculate the percentage of students who passed both math and reading.\n",
    "\n",
    "# PASSING IS 70, we will assign a varible \"passing_math\" iterate against \"school_data_complete_df\" for \"math scores\"\n",
    "#greater than or = to 70\n",
    "\n",
    "\n",
    "passing_math = school_data_complete_df[\"math_score\"] >= 70\n",
    "passing_math\n",
    "\n",
    "#True mean teh score is equal to or greater than 70, False not greater or equal to 70"
   ]
  },
  {
   "cell_type": "code",
   "execution_count": null,
   "metadata": {},
   "outputs": [],
   "source": [
    "#To get only the students that pass math, we will filter only \"True\"\n",
    "# Get all the students who are passing math in a new DataFrame.\n",
    "passing_math = school_data_complete_df[school_data_complete_df[\"math_score\"] >= 70]\n",
    "passing_math.head()"
   ]
  },
  {
   "cell_type": "code",
   "execution_count": null,
   "metadata": {},
   "outputs": [],
   "source": [
    "#Passing_reading code\n",
    "# Get all the students that are passing reading in a new DataFrame.\n",
    "#this is filtering for only the trues\n",
    "passing_reading = school_data_complete_df[school_data_complete_df[\"reading_score\"] >= 70]\n",
    "passing_reading.head()\n"
   ]
  },
  {
   "cell_type": "code",
   "execution_count": null,
   "metadata": {},
   "outputs": [],
   "source": [
    "# Now that you have found all the students who have passed math and reading, \n",
    "#you need to get the number of students who passed each subject. \n",
    "\n",
    "passing_math[\"student_name\"].count()"
   ]
  },
  {
   "cell_type": "code",
   "execution_count": null,
   "metadata": {},
   "outputs": [],
   "source": [
    "\n",
    "passing_reading[\"student_name\"].count()"
   ]
  },
  {
   "cell_type": "code",
   "execution_count": null,
   "metadata": {},
   "outputs": [],
   "source": [
    "#we can run count() this way also\n",
    "# Calculate the number of students passing math.\n",
    "passing_math_count = passing_math[\"student_name\"].count()\n",
    "\n",
    "# Calculate the number of students passing reading.\n",
    "passing_reading_count = passing_reading[\"student_name\"].count()"
   ]
  },
  {
   "cell_type": "code",
   "execution_count": null,
   "metadata": {},
   "outputs": [],
   "source": [
    "#notice we are using the new varible names\n",
    "print(passing_math_count)\n",
    "print(passing_reading_count)"
   ]
  },
  {
   "cell_type": "code",
   "execution_count": null,
   "metadata": {},
   "outputs": [],
   "source": [
    "#Get the Percentage of Students Who Passed Math and Reading\n",
    "#To get the percentage of students who passed math and reading, divide the passing_math_count and the passing_reading_count \n",
    "#by the total number of students,then multiply by 100.\n",
    "\n",
    "\n",
    "\n",
    "#Recall that the student count was calculated using this code: school_data_complete_df[\"Student ID\"].count()\n",
    "#we create the varible student_count\n",
    "\n",
    "student_count = school_data_complete_df[\"Student ID\"].count()\n",
    "student_count\n",
    "\n",
    "\n",
    "\n"
   ]
  },
  {
   "cell_type": "code",
   "execution_count": null,
   "metadata": {},
   "outputs": [],
   "source": [
    "#Since we are calculating a percentage, \n",
    "#we need to convert the student_count to a number with a decimal, or floating-point decimal, by using float().\n",
    "\n",
    "# Calculate the percent that passed math.\n",
    "passing_math_percentage = passing_math_count / float(student_count) * 100\n",
    "\n",
    "# Calculate the percent that passed reading.\n",
    "passing_reading_percentage = passing_reading_count / float(student_count) * 100"
   ]
  },
  {
   "cell_type": "code",
   "execution_count": null,
   "metadata": {},
   "outputs": [],
   "source": [
    "print(passing_math_percentage)\n",
    "print(passing_reading_percentage)"
   ]
  },
  {
   "cell_type": "code",
   "execution_count": null,
   "metadata": {},
   "outputs": [],
   "source": [
    "#NOW we need to calculate the percentage of students who passed both math and reading. \n",
    "\n",
    "#To get the overall passing percentage, \n",
    "#we need to get all the students who passed both math and reading and divide by the total number of students.\n",
    "\n",
    "# filter the school_data_complete_df DataFrame by adding the school_data_complete_df[\"math_score\"] >= 70 \n",
    "#and school_data_complete_df[\"reading_score\"] >= 70 \n",
    "#with the logical operator \"&\" within brackets, like this\n",
    "\n",
    "# Calculate the students who passed both math and reading.\n",
    "passing_math_reading = school_data_complete_df[(school_data_complete_df[\"math_score\"] >= 70) & (school_data_complete_df[\"reading_score\"] >= 70)]\n",
    "\n",
    "passing_math_reading.head()"
   ]
  },
  {
   "cell_type": "code",
   "execution_count": null,
   "metadata": {},
   "outputs": [],
   "source": [
    "#to get the total number of students that passed reading and math we can use either command\n",
    "\n",
    "#passing_math_reading[\"student_name\"].count()\n",
    "#passing_math_reading.student_name.count()\n",
    "# I tried both command and they both worked\n",
    "# Calculate the number of students who passed both math and reading.\n",
    "#creating varible overall_passing_math_reading_count, iterating passing_math_reading for \"student_name\" then counting\n",
    "overall_passing_math_reading_count = passing_math_reading[\"student_name\"].count()\n",
    "overall_passing_math_reading_count\n"
   ]
  },
  {
   "cell_type": "code",
   "execution_count": null,
   "metadata": {},
   "outputs": [],
   "source": [
    "#Finally, we calculate the percentage of students who passed both math and reading \n",
    "#by dividing the total number of students and multiplying by 100, using the following code.\n",
    "\n",
    "# Calculate the overall passing percentage.\n",
    "overall_passing_percentage = overall_passing_math_reading_count / student_count * 100\n",
    "overall_passing_percentage"
   ]
  },
  {
   "cell_type": "code",
   "execution_count": null,
   "metadata": {},
   "outputs": [],
   "source": [
    "#SECTION 4.7.7 CREATE A DISTRICT SUMMARY DATAFRAME\n",
    "\n",
    "#WE WILL BE ADDING ALL THE DATA OF SUMMARIES TO NEW DATAFRAME\n",
    "# we have them and caculation, we just need to add them to the new dataframe\n",
    "#district_summary_df\n",
    "\n",
    "#Total number of schools in the column \"Total Schools\"\n",
    "#Total number of students in the column \"Total Students\"\n",
    "#Total budget in the column \"Total Budget\"\n",
    "#Average reading score in the column \"Average Reading Score\"\n",
    "#Average math score in the column \"Average Math Score\"\n",
    "#Percentage of students passing reading in the column \"% Passing Reading\"\n",
    "#Percentage of students passing math in the column \"% Passing Math\"\n",
    "#Overall passing percentage in the column \"% Overall Passing\"\n",
    "\n",
    "#To create district_summary_df DataFrame, we can create a list of dictionaries, \n",
    "#where the keys are column names and the values are the metrics we calculated. \n",
    "#We do this because the DataFrame has no index, and lists have natural indexing.\n",
    "\n",
    "#This is tricky because we are using the \"column heading as the key but the sum or average of the column for the value\"\n"
   ]
  },
  {
   "cell_type": "code",
   "execution_count": null,
   "metadata": {},
   "outputs": [],
   "source": [
    "# Adding a list of values with keys to create a new DataFrame.\n",
    "district_summary_df = pd.DataFrame(\n",
    "          [{\"Total Schools\": school_count,\n",
    "          \"Total Students\": student_count,\n",
    "          \"Total Budget\": total_budget,\n",
    "          \"Average Math Score\": average_math_score,\n",
    "          \"Average Reading Score\": average_reading_score,\n",
    "          \"% Passing Math\": passing_math_percentage,\n",
    "         \"% Passing Reading\": passing_reading_percentage,\n",
    "        \"% Overall Passing\": overall_passing_percentage}])\n",
    "district_summary_df\n",
    "#your print out will only be one ROW across"
   ]
  },
  {
   "cell_type": "code",
   "execution_count": null,
   "metadata": {},
   "outputs": [],
   "source": [
    "#Chaining the map() and format() Functions\n",
    "#Section 4.7.8 also they had us jump back to this file. Other example is function.ipy file\n",
    "#The book is going to tell you to use the \"pycityschools.ipy\" file , you only have the \n",
    "#dictrict_summary_df on this file. maybe this file was supposed to merged with the other. \n",
    "\n",
    "#format the dollar amounts in the district_summary_df columns to two decimal places with a U.S. dollar sign, \n",
    "#and numbers larger than 999 with a thousands separator.\n",
    "\n",
    "#df[\"column\"] = df[\"column\"].map(\"{:,}\".format)\n",
    "#Now let's replace df[\"column\"] with district_summary_df[\"Total Students\"]\n",
    "\n",
    "# Format the \"Total Students\" to have the comma for a thousands separator.\n",
    "district_summary_df[\"Total Students\"] = district_summary_df[\"Total Students\"].map(\"{:,}\".format)\n",
    "\n",
    "district_summary_df[\"Total Students\"]\n",
    "    \n"
   ]
  },
  {
   "cell_type": "code",
   "execution_count": null,
   "metadata": {},
   "outputs": [],
   "source": [
    "# next example is formatting the total budget column\n",
    "\n",
    "#DataFrame with a U.S. dollar sign, and then format the numbers with a thousands separator \n",
    "#and to two decimal places using the following syntax: \"${:,.2f}\".format.\n",
    "\n",
    "# Format \"Total Budget\" to have the comma for a thousands separator, a decimal separator, and a \"$\".\n",
    "\n",
    "district_summary_df[\"Total Budget\"] = district_summary_df[\"Total Budget\"].map(\"${:,.2f}\".format)\n",
    "\n",
    "district_summary_df[\"Total Budget\"]\n",
    "\n"
   ]
  },
  {
   "cell_type": "code",
   "execution_count": null,
   "metadata": {},
   "outputs": [],
   "source": [
    "#The \"Average Reading Score\" column will be formatted to one decimal place.\n",
    "#The \"Average Math Score\" column will be formatted to one decimal place.\n",
    "#The \"% Passing Reading\" column will be formatted to the nearest whole number percentage.\n",
    "#The \"% Passing Math\" column will be formatted to the nearest whole number percentage\n",
    "#The \"% Overall Passing\" column will be formatted to the nearest whole number percentage.\n",
    "# Format the columns.\n",
    "# Format the columns.\n",
    "district_summary_df[\"Average Math Score\"] = district_summary_df[\"Average Math Score\"].map(\"{:.1f}\".format)\n",
    "\n",
    "district_summary_df[\"Average Reading Score\"] = district_summary_df[\"Average Reading Score\"].map(\"{:.1f}\".format)\n",
    "\n",
    "district_summary_df[\"% Passing Math\"] = district_summary_df[\"% Passing Math\"].map(\"{:.0f}\".format)\n",
    "\n",
    "district_summary_df[\"% Passing Reading\"] = district_summary_df[\"% Passing Reading\"].map(\"{:.0f}\".format)\n",
    "\n",
    "district_summary_df[\"% Overall Passing\"] = district_summary_df[\"% Overall Passing\"].map(\"{:.0f}\".format)\n",
    "\n",
    "#to display the entire dataframe\n",
    "district_summary_df"
   ]
  },
  {
   "cell_type": "code",
   "execution_count": null,
   "metadata": {},
   "outputs": [],
   "source": [
    "#Section 4.7.9 Reorder Columns\n",
    "#MY COLUMNS ARE IN ORDER. THE FOLLOWING IS HOW TO CHANGE THE ORDER IF NEEDED. \n",
    "\n",
    "# Reorder the columns in the order you want them to appear.\n",
    "#new_column_order = [\"column2\", \"column4\", \"column1\"]\n",
    "\n",
    "# Assign a new or the same DataFrame the new column order.\n",
    "#df = df[new_column_order]\n",
    "\n",
    "#This technique can also be used to filter out columns that you don't need \n",
    "#and select the columns in the order that you want. \n",
    "#For example, we didn't include column3 in the new order; this is how we can filter out columns we don't want.\n",
    "\n",
    "# Reorder the columns in the order you want them to appear.\n",
    "#new_column_order = [\"Total Schools\", \"Total Students\", \"Total Budget\",\"Average Math Score\", \"Average Reading Score\", \"% Passing Math\", \"% Passing Reading\", \"% Overall Passing\"]\n",
    "\n",
    "# Assign district summary df the new column order.\n",
    "#district_summary_df = district_summary_df[new_column_order]\n",
    "#district_summary_df\n",
    "\n",
    "#AGAIN MY \"district_summary_df\" was already in the requested order so no change. "
   ]
  },
  {
   "cell_type": "code",
   "execution_count": null,
   "metadata": {},
   "outputs": [],
   "source": [
    "#Section 4.8.1 Set the Index to School Name\n",
    "#This next project requires you to get the following key metrics for each school \n",
    "#and place them in a school summary DataFrame.\n",
    "# \"school_name\" is now the index for this DataFrame\n",
    "#can use the data from the school_data_df DataFrame because the  \"school_name\" and \"type\" columns are both Series:\n",
    "\n",
    "school_data_df\n"
   ]
  },
  {
   "cell_type": "code",
   "execution_count": null,
   "metadata": {},
   "outputs": [],
   "source": [
    "#take these Series and use one as the index and the other as the first column.\n",
    "#looking at the info above we are using \"school name and as index and type colum as the first column\"\n",
    "#this match image in the picture\n",
    "\n",
    "# Determine the school type.\n",
    "per_school_types = school_data_df.set_index([\"school_name\"])[\"type\"]\n",
    "per_school_types\n",
    "#below is correct"
   ]
  },
  {
   "cell_type": "code",
   "execution_count": null,
   "metadata": {},
   "outputs": [],
   "source": [
    "#create a new DataFrame by converting this Series to a DataFrame as follows:\n",
    "\n",
    "# Add the per_school_types into a DataFrame for testing.\n",
    "#the dataframe now is \"df\" not sure why they decided to just use df verses call out name\n",
    "df = pd.DataFrame(per_school_types)\n",
    "df"
   ]
  },
  {
   "cell_type": "code",
   "execution_count": null,
   "metadata": {},
   "outputs": [],
   "source": [
    "#4.8.2 Get the Student Count Per School\n",
    "\n",
    "#Next to the \"type\" of school column, Maria wants you to add the total number of students in each school.\n",
    "#you have the number of students in two DataFrames: school_data_df and school_data_complete_df. \n",
    "#You'll need to get the number of students from both DataFrames and find which one has \"school_name\" as the index.\n",
    "\n",
    "school_data_df\n",
    "#Looking at the school_data_df DataFrame, we can see the student count is in the \"size\" column."
   ]
  },
  {
   "cell_type": "code",
   "execution_count": null,
   "metadata": {},
   "outputs": [],
   "source": [
    "#Now let's get the student count in the school_data_df DataFrame.\n",
    "# Calculate the total student count.\n",
    "per_school_counts = school_data_df[\"size\"]\n",
    "per_school_counts"
   ]
  },
  {
   "cell_type": "code",
   "execution_count": null,
   "metadata": {},
   "outputs": [],
   "source": [
    "#Unfortunately, this Series doesn't have an index with \"school_name.\" \n",
    "#Therefore, we can't use the \"size\" column from school_data_df to get the count of the student population.\n",
    "\n",
    "#To fix this, we can use the set_index() method on the \"school_name\" column, \n",
    "#and then select the \"size\" column to display the student count for each school.\n",
    "\n",
    "# Calculate the total student count.\n",
    "per_school_counts = school_data_df.set_index([\"school_name\"])[\"size\"]\n",
    "per_school_counts"
   ]
  },
  {
   "cell_type": "code",
   "execution_count": null,
   "metadata": {},
   "outputs": [],
   "source": [
    "#To get the number of students from the school_data_complete_df DataFrame, \n",
    "#we can count the number of times a high school appears using value_counts() on the \"school_name\" column.\n",
    "#The value_counts() method will return a Series of data with the number of times each school_name appears in a row. \n",
    "\n",
    "#To get the total student count per high school, \n",
    "# Calculate the total student count.\n",
    "per_school_counts = school_data_complete_df[\"school_name\"].value_counts()\n",
    "per_school_counts"
   ]
  },
  {
   "cell_type": "code",
   "execution_count": null,
   "metadata": {},
   "outputs": [],
   "source": [
    "# Now we have two methods to get the student count. \n",
    "#As long as we make sure the index is the \"school_name\" column, we can use either method."
   ]
  },
  {
   "cell_type": "code",
   "execution_count": null,
   "metadata": {},
   "outputs": [],
   "source": [
    "#Section 4.8.3 Get teh Budget Per Student\n",
    "\n",
    "#Next to the Total Students column, Maria wants you to add the budget per student for each school.\n",
    "#First you'll[ need to get the budget for each school and then divide by the total students per school, \n",
    "#which you already calculated as per_school_counts.\n",
    "\n",
    "# find the budget per student for each school, \n",
    "#we [need to divide the budget for each school by the number of students at each school.\n",
    "\n",
    "#look at the school_data_df DataFrame. The budget for each school is listed in the budget column.\n",
    "\n",
    "#so we set the index off of school_name and pulled the budget\n",
    "# Calculate the total school budget.\n",
    "per_school_budget = school_data_df.set_index([\"school_name\"])[\"budget\"]\n",
    "per_school_budget"
   ]
  },
  {
   "cell_type": "code",
   "execution_count": null,
   "metadata": {},
   "outputs": [],
   "source": [
    "#The data type for the budget column is int64, \n",
    "#which is suitable for calculations that we need to perform in order to find the budget per student.\n",
    "\n",
    "#To get the budget per student, we'll divide the per_school_budget by the per_school_counts.\n",
    "\n",
    "# Calculate the per capita spending.\n",
    "per_school_capita = per_school_budget / per_school_counts\n",
    "per_school_capita"
   ]
  },
  {
   "cell_type": "code",
   "execution_count": null,
   "metadata": {},
   "outputs": [],
   "source": [
    "#Section 4.8.4 Get the Score Averages Per School \n",
    "\n",
    "#Now you need to calculate the average math score and the average reading score for each school.\n",
    "\n",
    "#we are still using \"school_name\" as our index\n",
    "\n",
    "#school_data_df.set_index([\"school_name\"])[\"budget\"]\n",
    "\n",
    "# Calculate the math scores.\n",
    "student_school_math = student_data_df.set_index([\"school_name\"])[\"math_score\"]\n",
    "student_school_math\n"
   ]
  },
  {
   "cell_type": "code",
   "execution_count": null,
   "metadata": {},
   "outputs": [],
   "source": [
    "#Unfortunately, we can't use the school_data_df DataFrame, as there aren't any columns containing grades. \n",
    "#We also can't use the set_index() method on the school_name column in student_data_df because there are \n",
    "#too many occurrences of the school_name column.\n",
    "\n",
    "#we need to use the Pandas groupby() function. The groupby() function will split an object (like a DataFrame),\n",
    "#apply a mathematical operation, and combine the results.\n",
    "\n",
    "# Calculate the average math scores.\n",
    "per_school_averages = school_data_complete_df.groupby([\"school_name\"]).mean()\n",
    "per_school_averages"
   ]
  },
  {
   "cell_type": "code",
   "execution_count": null,
   "metadata": {},
   "outputs": [],
   "source": [
    "#But we don't want all of this data in the school summary DataFrame, just the reading and math scores. \n",
    "#To get the average math score and reading score for each school, \n",
    "#we can add the math_score and reading_score columns at the end. \n",
    "\n",
    "# Calculate the average test scores.\n",
    "per_school_math = school_data_complete_df.groupby([\"school_name\"]).mean()[\"math_score\"]\n",
    "\n",
    "per_school_reading = school_data_complete_df.groupby([\"school_name\"]).mean()[\"reading_score\"]\n",
    "\n",
    "#to read each just use the varible name\n",
    "per_school_math\n"
   ]
  },
  {
   "cell_type": "code",
   "execution_count": null,
   "metadata": {},
   "outputs": [],
   "source": [
    "#The per_school_reading results will have the same format, with the column being the average reading_score.\n",
    "per_school_reading"
   ]
  },
  {
   "cell_type": "code",
   "execution_count": null,
   "metadata": {},
   "outputs": [],
   "source": [
    "#Section 4.8.5 Get the Passing Percentages Per School\n",
    "#calculating the passing percentages for math and reading for each school, \n",
    "#as well as get the overall passing percentage for each school.\n",
    "\n",
    " # To get the passing percentages, we need to:\n",
    " # 1. Determine what is the passing grade.\n",
    " # 2. Get the number of students who passed math and reading.\n",
    " # 3. Get the students who passed math and passed reading\n",
    "\n",
    "#We're in luck! We have already determined the passing grade as well as calculated the number of students \n",
    "#who passed math and reading."
   ]
  },
  {
   "cell_type": "code",
   "execution_count": null,
   "metadata": {},
   "outputs": [],
   "source": [
    "# Calculate the passing scores by creating a filtered DataFrame.\n",
    "#using new varibles\n",
    "per_school_passing_math = school_data_complete_df[(school_data_complete_df[\"math_score\"] >= 70)]\n",
    "\n",
    "per_school_passing_reading = school_data_complete_df[(school_data_complete_df[\"reading_score\"] >= 70)]"
   ]
  },
  {
   "cell_type": "code",
   "execution_count": null,
   "metadata": {},
   "outputs": [],
   "source": [
    "per_school_passing_math"
   ]
  },
  {
   "cell_type": "code",
   "execution_count": null,
   "metadata": {},
   "outputs": [],
   "source": [
    "#To create a Series that has school_name as the index, we'll use groupby([\"school_name\"]) \n",
    "#on the per_school_passing_math and the per_school_passing_math DataFrames.\n",
    "\n",
    "#perform a mathematical operation on the groupby() object. \n",
    "#Remember, we need to get the number of students who passed, so we'll use the count() \n",
    "\n",
    "# Calculate the number of students passing math and passing reading by school.\n",
    "per_school_passing_math = per_school_passing_math.groupby([\"school_name\"]).count()[\"student_name\"]\n",
    "\n",
    "per_school_passing_reading = per_school_passing_reading.groupby([\"school_name\"]).count()[\"student_name\"]\n",
    "\n",
    "\n",
    "per_school_passing_math"
   ]
  },
  {
   "cell_type": "code",
   "execution_count": null,
   "metadata": {},
   "outputs": [],
   "source": [
    "per_school_passing_reading"
   ]
  },
  {
   "cell_type": "code",
   "execution_count": null,
   "metadata": {},
   "outputs": [],
   "source": [
    "#Determine the Percentage of Students Passing Math and Reading\n",
    "#determine the percentage of students passing math and reading, \n",
    "#we must divide per_school_passing_math and per_school_passing_reading by the per_school_counts, \n",
    "#and then multiply by 100"
   ]
  },
  {
   "cell_type": "code",
   "execution_count": null,
   "metadata": {},
   "outputs": [],
   "source": [
    "# Calculate the percentage of passing math and reading scores per school.\n",
    "per_school_passing_math = per_school_passing_math / per_school_counts * 100\n",
    "\n",
    "per_school_passing_reading = per_school_passing_reading / per_school_counts * 100"
   ]
  },
  {
   "cell_type": "code",
   "execution_count": null,
   "metadata": {},
   "outputs": [],
   "source": [
    "per_school_passing_math\n",
    "#the output will be a Series where the index is the school name \n",
    "#and the column is the percentage of students who passed math for each school."
   ]
  },
  {
   "cell_type": "code",
   "execution_count": null,
   "metadata": {},
   "outputs": [],
   "source": [
    "per_school_passing_reading"
   ]
  },
  {
   "cell_type": "code",
   "execution_count": null,
   "metadata": {},
   "outputs": [],
   "source": [
    "#Get the Overall Passing Percentage for All Students for Each School\n",
    "#To get the overall passing percentage, we need to get all the students who passed both math \n",
    "#and reading and then divide by the total number of students.\n",
    "\n",
    "# Calculate the students who passed both math and reading.\n",
    "per_passing_math_reading = school_data_complete_df[(school_data_complete_df[\"math_score\"] >= 70) & (school_data_complete_df[\"reading_score\"] >= 70)]\n",
    "\n",
    "per_passing_math_reading.head()\n"
   ]
  },
  {
   "cell_type": "code",
   "execution_count": null,
   "metadata": {},
   "outputs": [],
   "source": [
    "#Next, we'll get the total number of students from each school who passed both math and reading. \n",
    "#To do this, we need to set the index as school_name, and then we need to get the number of students.\n",
    "\n",
    "#To get the total number of students who passed both math and reading on the per_passing_math_reading DataFrame, \n",
    "#we use the following code, which sets the index to school_name, and then use the count() method for the student_name.\n",
    "\n",
    "# Calculate the number of students who passed both math and reading.\n",
    "per_passing_math_reading = per_passing_math_reading.groupby([\"school_name\"]).count()[\"student_name\"]\n"
   ]
  },
  {
   "cell_type": "code",
   "execution_count": null,
   "metadata": {},
   "outputs": [],
   "source": [
    "# Calculate the overall passing percentage.\n",
    "per_overall_passing_percentage = per_passing_math_reading / per_school_counts * 100\n",
    "\n",
    "per_overall_passing_percentage"
   ]
  },
  {
   "cell_type": "code",
   "execution_count": null,
   "metadata": {},
   "outputs": [],
   "source": [
    "#Section 4.8.6 Create the School Summary DataFrame \n",
    "\n",
    "#to see the school summary, as are other district officials. \n",
    "#You'll need to combine all the data you retrieved and calculated and put this data in a new DataFrame.\n",
    "#new dataframe will be \"per_school_summary_df\""
   ]
  },
  {
   "cell_type": "code",
   "execution_count": null,
   "metadata": {},
   "outputs": [],
   "source": [
    "#these are all the different information we created that we will now but in as values on columns\n",
    "\n",
    "# Adding a list of values with keys to create a new DataFrame.\n",
    "\n",
    "per_school_summary_df = pd.DataFrame({\n",
    "             \"School Type\": per_school_types,\n",
    "             \"Total Students\": per_school_counts,\n",
    "             \"Total School Budget\": per_school_budget,\n",
    "             \"Per Student Budget\": per_school_capita,\n",
    "             \"Average Math Score\": per_school_math,\n",
    "           \"Average Reading Score\": per_school_reading,\n",
    "           \"% Passing Math\": per_school_passing_math,\n",
    "           \"% Passing Reading\": per_school_passing_reading,\n",
    "           \"% Overall Passing\": per_overall_passing_percentage})\n",
    "per_school_summary_df.head()"
   ]
  },
  {
   "cell_type": "code",
   "execution_count": null,
   "metadata": {},
   "outputs": [],
   "source": [
    "#The columns are in the correct order, but we still need to apply formatting to the Total School Budget and Per Student Budget columns, \n",
    "#as well as apply a thousands separator to the Total Students column\n",
    "\n"
   ]
  },
  {
   "cell_type": "code",
   "execution_count": null,
   "metadata": {},
   "outputs": [],
   "source": [
    "#Section 4.8.7 Clean up the DataFrame\n",
    "\n",
    "#To format the Total School Budget and Per Student Budget columns, \n",
    "#add the following code to a new cell and run the cell.\n",
    "\n",
    "# Format the Total School Budget and the Per Student Budget columns.\n",
    "per_school_summary_df[\"Total School Budget\"] = per_school_summary_df[\"Total School Budget\"].map(\"${:,.2f}\".format)\n",
    "\n",
    "per_school_summary_df[\"Per Student Budget\"] = per_school_summary_df[\"Per Student Budget\"].map(\"${:,.2f}\".format)\n",
    "\n",
    "\n",
    "# Display the data frame\n",
    "per_school_summary_df.head()"
   ]
  },
  {
   "cell_type": "code",
   "execution_count": null,
   "metadata": {},
   "outputs": [],
   "source": [
    "#Section 4.9.1 Find the Highest Performing School\n",
    "\n",
    "#To display the top five highest-performing schools, \n",
    "#we can sort the per_school_summary_df DataFrame on the % Overall Passing column.\n",
    "\n",
    "#sort_values() function, we can sort a DataFrame or Series for a given text, \n",
    "#index, or column that is passed within the parentheses. \n",
    "#In addition, we can add the parameter ascending=False to sort from highest to lowest, \n",
    "#or ascending=True to sort from lowest to highest the value referenced in the sort_values() function. \n",
    "#If we don't add the ascending parameter, the default is ascending=True.\n",
    "\n",
    "#To sort the schools on the % Overall Passing column from highest to lowest, \n",
    "#add the following code and run the cell.\n",
    "\n"
   ]
  },
  {
   "cell_type": "code",
   "execution_count": null,
   "metadata": {},
   "outputs": [],
   "source": [
    "# Sort and show top five schools. The ascedingn=False will sort highest to lowest\n",
    "top_schools = per_school_summary_df.sort_values([\"% Overall Passing\"], ascending=False)\n",
    "\n",
    "top_schools.head()"
   ]
  },
  {
   "cell_type": "code",
   "execution_count": null,
   "metadata": {},
   "outputs": [],
   "source": [
    "#Secton 4.9.2 Find the Lowest Performing Schools\n",
    "\n",
    "# Sort and show top five schools.\n",
    "bottom_schools = per_school_summary_df.sort_values([\"% Overall Passing\"], ascending=True)\n",
    "\n",
    "bottom_schools.head()"
   ]
  },
  {
   "cell_type": "code",
   "execution_count": null,
   "metadata": {},
   "outputs": [],
   "source": [
    "#Section 4.10.1 Create Grade_Level DataFrames\n",
    "\n",
    "#get the average math and reading scores for each school. \n",
    "#But first, you will need to create DataFrames for each grade level.\n",
    "\n",
    "#You are tasked with creating two new DataFrames: \n",
    "#one that will display the average math scores for each grade, \n",
    "#and the one that will display the average reading scores for each grade. \n",
    "#These will be grouped by the name of the school.\n",
    "\n",
    "#In the final DataFrame, we need to have the index on the school name \n",
    "#and the average math or reading score for each grade: 9th, 10th, 11th, and 12th. \n",
    "#This is what the DataFrame for the average math scores should look like when we're done:"
   ]
  },
  {
   "cell_type": "code",
   "execution_count": null,
   "metadata": {},
   "outputs": [],
   "source": [
    "#Let's first get the ninth graders in a Series. \n",
    "#Set the variable ninth_graders equal to \n",
    "#school_data_complete_df[\"grade\"] == \"9th\". This will retrieve all rows where this statement is \"True.\"\n",
    "\n",
    "#Using the code school_data_complete_df[\"grade\"] == \"9th\", \n",
    "#we can filter school_data_complete_df for the \"True\" cases as follows:\n",
    "\n",
    "#school_data_complete_df[(school_data_complete_df[\"grade\"] == \"9th\")]\n",
    "\n",
    "#using the complete code we only have to change out the \"9th\" for the other grades like 12th"
   ]
  },
  {
   "cell_type": "code",
   "execution_count": null,
   "metadata": {},
   "outputs": [],
   "source": [
    "# Create a grade level DataFrames.\n",
    "ninth_graders = school_data_complete_df[(school_data_complete_df[\"grade\"] == \"9th\")]\n",
    "\n",
    "tenth_graders = school_data_complete_df[(school_data_complete_df[\"grade\"] == \"10th\")]\n",
    "\n",
    "eleventh_graders = school_data_complete_df[(school_data_complete_df[\"grade\"] == \"11th\")]\n",
    "\n",
    "twelfth_graders = school_data_complete_df[(school_data_complete_df[\"grade\"] == \"12th\")]\n"
   ]
  },
  {
   "cell_type": "code",
   "execution_count": null,
   "metadata": {},
   "outputs": [],
   "source": [
    "#example print using \"night_graders\"\n",
    "ninth_graders"
   ]
  },
  {
   "cell_type": "code",
   "execution_count": null,
   "metadata": {},
   "outputs": [],
   "source": [
    "#Section 4.10.2 Score Averages Grouped by School\n",
    "\n",
    "#To get the average math and reading scores for each grade level and for each school, we need to do the following: \n",
    "\n",
    "#Use the groupby function to group by the school_name column\n",
    "#Calculate the mean math_score and reading_score\n",
    "\n"
   ]
  },
  {
   "cell_type": "code",
   "execution_count": null,
   "metadata": {},
   "outputs": [],
   "source": [
    "#First, we will get the average math score for each school. \n",
    "#For each grade level DataFrame, we will use the groupby() function on the school_name column \n",
    "#and apply the mean() on the math_score column.\n",
    "\n",
    "#To get the math_score averages for each grade level, add the following code in a new cell and run the cell. \n",
    "\n",
    "# Group each school Series by the school name for the average math score.\n",
    "ninth_grade_math_scores = ninth_graders.groupby([\"school_name\"]).mean()[\"math_score\"]\n",
    "\n",
    "tenth_grade_math_scores = tenth_graders.groupby([\"school_name\"]).mean()[\"math_score\"]\n",
    "\n",
    "eleventh_grade_math_scores = eleventh_graders.groupby([\"school_name\"]).mean()[\"math_score\"]\n",
    "\n",
    "twelfth_grade_math_scores = twelfth_graders.groupby([\"school_name\"]).mean()[\"math_score\"]\n"
   ]
  },
  {
   "cell_type": "code",
   "execution_count": null,
   "metadata": {},
   "outputs": [],
   "source": [
    "#example using ninth_grade_math_scores\n",
    "ninth_grade_math_scores"
   ]
  },
  {
   "cell_type": "code",
   "execution_count": null,
   "metadata": {},
   "outputs": [],
   "source": [
    "eleventh_grade_math_scores"
   ]
  },
  {
   "cell_type": "code",
   "execution_count": null,
   "metadata": {},
   "outputs": [],
   "source": [
    "#Get the Average REading Scores by School\n",
    "\n",
    "# Group each school Series by the school name for the average reading score.\n",
    "ninth_grade_reading_scores = ninth_graders.groupby([\"school_name\"]).mean()[\"reading_score\"]\n",
    "\n",
    "tenth_grade_reading_scores = tenth_graders.groupby([\"school_name\"]).mean()[\"reading_score\"]\n",
    "\n",
    "eleventh_grade_reading_scores = eleventh_graders.groupby([\"school_name\"]).mean()[\"reading_score\"]\n",
    "\n",
    "twelfth_grade_reading_scores = twelfth_graders.groupby([\"school_name\"]).mean()[\"reading_score\"]"
   ]
  },
  {
   "cell_type": "code",
   "execution_count": null,
   "metadata": {},
   "outputs": [],
   "source": [
    "ninth_grade_reading_scores"
   ]
  },
  {
   "cell_type": "code",
   "execution_count": null,
   "metadata": {},
   "outputs": [],
   "source": [
    "twelfth_grade_reading_scores"
   ]
  },
  {
   "cell_type": "code",
   "execution_count": null,
   "metadata": {},
   "outputs": [],
   "source": [
    "#Section 4.10.3 Combine the Series into a DataFrame\n",
    "\n",
    "#First, let's add the math scores for each grade level to a new DataFrame."
   ]
  },
  {
   "cell_type": "code",
   "execution_count": null,
   "metadata": {},
   "outputs": [],
   "source": [
    "# Combine each Series for average math scores by school into single DataFrame.\n",
    "math_scores_by_grade = pd.DataFrame({\n",
    "               \"9th\": ninth_grade_math_scores,\n",
    "               \"10th\": tenth_grade_math_scores,\n",
    "               \"11th\": eleventh_grade_math_scores,\n",
    "               \"12th\": twelfth_grade_math_scores})\n",
    "\n",
    "math_scores_by_grade.head()\n"
   ]
  },
  {
   "cell_type": "code",
   "execution_count": null,
   "metadata": {},
   "outputs": [],
   "source": [
    "#same format to add the reading scores for each grade level to a new DataFrame\n",
    "\n",
    "# Combine each Series for average reading scores by school into single DataFrame.\n",
    "reading_scores_by_grade = pd.DataFrame({\n",
    "              \"9th\": ninth_grade_reading_scores,\n",
    "              \"10th\": tenth_grade_reading_scores,\n",
    "              \"11th\": eleventh_grade_reading_scores,\n",
    "              \"12th\": twelfth_grade_reading_scores})\n",
    "\n",
    "reading_scores_by_grade.head()\n"
   ]
  },
  {
   "cell_type": "code",
   "execution_count": null,
   "metadata": {},
   "outputs": [],
   "source": [
    "#Section 4.10.4 Format the Averages and remove the Index Name\n",
    "\n",
    "#Maria would like you to format the reading and math averages to one decimal place \n",
    "#and removed the name of the index column. \n"
   ]
  },
  {
   "cell_type": "code",
   "execution_count": null,
   "metadata": {},
   "outputs": [],
   "source": [
    "# Format each grade column. IF YOU CUT AND PASTE OUT THE BOOK THE INDENTS ARE WRONG. \n",
    "math_scores_by_grade[\"9th\"] = math_scores_by_grade[\"9th\"].map(\"{:.1f}\".format)\n",
    "\n",
    "math_scores_by_grade[\"10th\"] = math_scores_by_grade[\"10th\"].map(\"{:.1f}\".format)\n",
    "\n",
    "math_scores_by_grade[\"11th\"] = math_scores_by_grade[\"11th\"].map(\"{:.1f}\".format)\n",
    "\n",
    "math_scores_by_grade[\"12th\"] = math_scores_by_grade[\"12th\"].map(\"{:.1f}\".format)\n",
    "  "
   ]
  },
  {
   "cell_type": "code",
   "execution_count": null,
   "metadata": {},
   "outputs": [],
   "source": [
    "# Make sure the columns are in the correct order.\n",
    "math_scores_by_grade = math_scores_by_grade[[\"9th\", \"10th\", \"11th\", \"12th\"]]"
   ]
  },
  {
   "cell_type": "code",
   "execution_count": null,
   "metadata": {},
   "outputs": [],
   "source": [
    "# Remove the index name.\n",
    "math_scores_by_grade.index.name = None\n",
    "# Display the DataFrame.\n",
    "math_scores_by_grade.head()"
   ]
  },
  {
   "cell_type": "code",
   "execution_count": null,
   "metadata": {},
   "outputs": [],
   "source": [
    "#apply the same formatting method and remove the index name for the reading_scores_by_grade"
   ]
  },
  {
   "cell_type": "code",
   "execution_count": null,
   "metadata": {},
   "outputs": [],
   "source": [
    "# Format each grade column.\n",
    "reading_scores_by_grade[\"9th\"] = reading_scores_by_grade[\"9th\"].map(\"{:,.1f}\".format)\n",
    "\n",
    "reading_scores_by_grade[\"10th\"] = reading_scores_by_grade[\"10th\"].map(\"{:,.1f}\".format)\n",
    "\n",
    "reading_scores_by_grade[\"11th\"] = reading_scores_by_grade[\"11th\"].map(\"{:,.1f}\".format)\n",
    "\n",
    "reading_scores_by_grade[\"12th\"] = reading_scores_by_grade[\"12th\"].map(\"{:,.1f}\".format)"
   ]
  },
  {
   "cell_type": "code",
   "execution_count": null,
   "metadata": {},
   "outputs": [],
   "source": [
    "# Make sure the columns are in the correct order.\n",
    "reading_scores_by_grade = reading_scores_by_grade[[\"9th\", \"10th\", \"11th\", \"12th\"]]"
   ]
  },
  {
   "cell_type": "code",
   "execution_count": null,
   "metadata": {},
   "outputs": [],
   "source": [
    "# Remove the index name. IF YOU CUT AND PASTE OUT THE BOOK THE INDENTS ARE WRONG. \n",
    "reading_scores_by_grade.index.name = None\n",
    "# Display the data frame.\n",
    "reading_scores_by_grade.head()"
   ]
  },
  {
   "cell_type": "code",
   "execution_count": null,
   "metadata": {},
   "outputs": [],
   "source": [
    "#Section 4.11.1 Establish the Spending Ranges per Student\n",
    "\n",
    "#how does school spending per student affect the school's average scores and passing percentages? "
   ]
  },
  {
   "cell_type": "code",
   "execution_count": null,
   "metadata": {},
   "outputs": [],
   "source": [
    "#For this analysis, we will need to sort the school spending per student into four spending \"bins,\" or ranges. \n",
    "#The four bins will be dollar amounts that range from the lowest amount ($578) \n",
    "#to the highest amount ($655) a school spends on a student.\n",
    "\n",
    "#We determined the budget per student in the school summary when we retrieved the per_school_capita"
   ]
  },
  {
   "cell_type": "code",
   "execution_count": null,
   "metadata": {},
   "outputs": [],
   "source": [
    "#Get the Spending Ranges\n",
    "#Before we create the bins, we need to determine the distribution of spending per student. \n",
    "#We can find the distribution for school spending per student by using the describe() method.\n",
    "\n",
    "#When we apply the describe() method to a DataFrame or Series, \n",
    "#it will return the following descriptive statistics for the DataFrame or Series:\n",
    "\n",
    "#The number of rows in the DataFrame or Series as count\n",
    "#The average of the rows as mean\n",
    "#The standard deviation of the rows as std\n",
    "#The minimum value of the rows as min\n",
    "#The 25th percentile as 25%\n",
    "#The 50th percentile as 50%\n",
    "#The 75th percentile as 75%\n",
    "#The minimum value of the rows as max"
   ]
  },
  {
   "cell_type": "code",
   "execution_count": null,
   "metadata": {},
   "outputs": [],
   "source": [
    "# Get the descriptive statistics for the per_school_capita.\n",
    "per_school_capita.describe()"
   ]
  },
  {
   "cell_type": "code",
   "execution_count": null,
   "metadata": {},
   "outputs": [],
   "source": [
    "#As you can see, the minimum is 578 and the maximum is 655. The standard deviation is 28.5, or approximately 30.\n",
    "#We don't want the lowest bin to be $578 because there is only one school at or below $578, \n",
    "#which is Wilson High School. \n",
    "#However, there are four schools that spend less than $585 per student, so $585 will be our lowest bin. \n",
    "#Also, because the standard deviation is about 30, we will increase the bins by $30, up to $675. \n",
    "#Therefore, the four bins will be: $585, $615, $645, and $675.\n",
    "\n",
    "#The bins will define a range of spending. \n",
    "#For the $585 bin, the range is all values at or below $585, \n",
    "#the range for the $615 bin is $586–615, and so on. Here's what our bins look like: \n",
    "#spending_bins = [0, 585, 615, 645, 675]\n",
    "\n",
    "# If we don't include the 0 for the spending bins, \n",
    "#the lowest bin becomes $585–614, which means that the schools that spend less than $585 are not considered"
   ]
  },
  {
   "cell_type": "code",
   "execution_count": null,
   "metadata": {},
   "outputs": [],
   "source": [
    "#Group the Series on the Spending Ranges\n",
    "#To group the spending ranges, we use the Pandas cut() function. \n",
    "#The cut() function segments and sorts data values into bins. \n",
    "\n",
    "# Cut the per_school_capita into the spending ranges.\n",
    "spending_bins = [0, 585, 615, 645, 675]\n",
    "pd.cut(per_school_capita, spending_bins)"
   ]
  },
  {
   "cell_type": "code",
   "execution_count": null,
   "metadata": {},
   "outputs": [],
   "source": [
    "#If we don't use the 0 for the bottom limit\n",
    "# Cut the per_school_capita into the spending ranges.\n",
    "spending_bins = [585, 615, 645, 675]\n",
    "pd.cut(per_school_capita, spending_bins)"
   ]
  },
  {
   "cell_type": "code",
   "execution_count": null,
   "metadata": {},
   "outputs": [],
   "source": [
    "#Next, we'll determine how many schools are in each range by grouping \n",
    "#the spending bins as the index using the groupby()\n",
    "\n",
    "# Cut the per_school_capita into the spending ranges.\n",
    "spending_bins = [0, 585, 615, 645, 675]\n",
    "per_school_capita.groupby(pd.cut(per_school_capita, spending_bins)).count()"
   ]
  },
  {
   "cell_type": "code",
   "execution_count": null,
   "metadata": {},
   "outputs": [],
   "source": [
    "#Looking at this output, it seems that we didn't group the schools fairly. \n",
    "#We need to adjust our ranges so that we have three or four schools in each range. \n",
    "#Let's increase the [585, 615] range to [585, 630] and change the third range to [630, 645]. \n",
    "#The spending_bins will look like this: \n",
    "\n",
    "# Cut the per_school_capita into the spending ranges.\n",
    "spending_bins = [0, 585, 630, 645, 675]\n",
    "per_school_capita.groupby(pd.cut(per_school_capita, spending_bins)).count()"
   ]
  },
  {
   "cell_type": "code",
   "execution_count": null,
   "metadata": {},
   "outputs": [],
   "source": [
    "#Now let's name each range. We can label the ranges using a list of string values.\n",
    "# Establish the spending bins and group names.\n",
    "spending_bins = [0, 585, 630, 645, 675]\n",
    "group_names = [\"<$584\", \"$585-629\", \"$630-644\", \"$645-675\"]"
   ]
  },
  {
   "cell_type": "code",
   "execution_count": null,
   "metadata": {},
   "outputs": [],
   "source": [
    "#Section 4.11.2 Categorize the Spending Bins\n",
    "\n",
    "# grouping the schools' spending in the per_school_summary_df"
   ]
  },
  {
   "cell_type": "code",
   "execution_count": null,
   "metadata": {},
   "outputs": [],
   "source": [
    "# Categorize spending based on the bins.\n",
    "per_school_summary_df[\"Spending Ranges (Per Student)\"] = pd.cut(per_school_capita, spending_bins, labels=group_names)\n",
    "\n",
    "per_school_summary_df\n",
    "\n",
    "#There's a lot going on in this code, so let's break it down.\n",
    "\n",
    "#To the left of the equals sign, \n",
    "#we add a new column called \"Spending Ranges (Per Student)\"{style=\"font-size: 1rem;\"} \n",
    "#to the per_school_summary_df DataFrame. This column will contain the values specified by using the cut() function.\n",
    "#Inside the cut() function, we add the data (per_school_capita) \n",
    "#we are going to use for \"Spending Ranges (Per Student)\". \n",
    "#The data must be a one-dimensional array, like a list or the per_school_capitaSeries.\n",
    "#Inside the parentheses, we add the spending_bins and the labels for the bins using labels=group_names."
   ]
  },
  {
   "cell_type": "code",
   "execution_count": null,
   "metadata": {},
   "outputs": [],
   "source": [
    "#Section 4.11.3 Group by the Spending Ranges\n",
    "#Now she would like you get the average math and reading scores, the average percentage of students who passed math \n",
    "#and reading,and the average overall passing percentage\n",
    "\n",
    "# Calculate averages for the desired columns.\n",
    "spending_math_scores = per_school_summary_df.groupby([\"Spending Ranges (Per Student)\"]).mean()[\"Average Math Score\"]\n",
    "\n",
    "spending_reading_scores = per_school_summary_df.groupby([\"Spending Ranges (Per Student)\"]).mean()[\"Average Reading Score\"]\n",
    "\n",
    "spending_passing_math = per_school_summary_df.groupby([\"Spending Ranges (Per Student)\"]).mean()[\"% Passing Math\"]\n",
    "\n",
    "spending_passing_reading = per_school_summary_df.groupby([\"Spending Ranges (Per Student)\"]).mean()[\"% Passing Reading\"]\n",
    "\n",
    "overall_passing_spending = per_school_summary_df.groupby([\"Spending Ranges (Per Student)\"]).mean()[\"% Overall Passing\"]"
   ]
  },
  {
   "cell_type": "code",
   "execution_count": null,
   "metadata": {},
   "outputs": [],
   "source": [
    "#Section 4.11.4 Create a DataFrame for the Scores by School Spending\n",
    "#creating a new dataframe to hold all the information \n",
    "\n",
    "#create a new DataFrame for the average math and reading scores, \n",
    "#average percentage of students who passed math and reading, and the average overall percentage of passing students."
   ]
  },
  {
   "cell_type": "code",
   "execution_count": null,
   "metadata": {},
   "outputs": [],
   "source": [
    "# Assemble into DataFrame.\n",
    "spending_summary_df = pd.DataFrame({\n",
    "          \"Average Math Score\" : spending_math_scores,\n",
    "          \"Average Reading Score\": spending_reading_scores,\n",
    "          \"% Passing Math\": spending_passing_math,\n",
    "          \"% Passing Reading\": spending_passing_reading,\n",
    "          \"% Overall Passing\": overall_passing_spending})\n",
    "\n",
    "spending_summary_df"
   ]
  },
  {
   "cell_type": "code",
   "execution_count": null,
   "metadata": {},
   "outputs": [],
   "source": [
    "#To format the spending_summary_df DataFrame, \n",
    "#add the following code to a new cell and run the cell:\n",
    "\n",
    "# Formatting\n",
    "spending_summary_df[\"Average Math Score\"] = spending_summary_df[\"Average Math Score\"].map(\"{:.1f}\".format)\n",
    "\n",
    "spending_summary_df[\"Average Reading Score\"] = spending_summary_df[\"Average Reading Score\"].map(\"{:.1f}\".format)\n",
    "\n",
    "spending_summary_df[\"% Passing Math\"] = spending_summary_df[\"% Passing Math\"].map(\"{:.0f}\".format)\n",
    "\n",
    "spending_summary_df[\"% Passing Reading\"] = spending_summary_df[\"% Passing Reading\"].map(\"{:.0f}\".format)\n",
    "\n",
    "spending_summary_df[\"% Overall Passing\"] = spending_summary_df[\"% Overall Passing\"].map(\"{:.0f}\".format)\n",
    "\n",
    "spending_summary_df"
   ]
  },
  {
   "cell_type": "code",
   "execution_count": null,
   "metadata": {},
   "outputs": [],
   "source": [
    "#Section 4.12.1\n",
    "#she now wants you to group the same averages and percentages by the school size.\n",
    "\n",
    "# Establish the bins.\n",
    "size_bins = [0, 1000, 2000, 5000]\n",
    "group_names = [\"Small (<1000)\", \"Medium (1000-2000)\", \"Large (2000-5000)\"]"
   ]
  },
  {
   "cell_type": "code",
   "execution_count": null,
   "metadata": {},
   "outputs": [],
   "source": [
    "#Section 4.12.2 Categorize the Size Bins\n",
    "\n",
    "#group the school sizes in the per_school_summary_dfDataFrame based on the bins.\n",
    "\n",
    "# Categorize spending based on the bins.\n",
    "per_school_summary_df[\"School Size\"] = pd.cut(per_school_summary_df[\"Total Students\"], size_bins, labels=group_names)\n",
    "\n",
    "per_school_summary_df.head()"
   ]
  },
  {
   "cell_type": "code",
   "execution_count": null,
   "metadata": {},
   "outputs": [],
   "source": [
    "#Section 4.12.3 Group by School Size\n",
    "#calculate the following, based on the school sizes: average math and reading scores, \n",
    "#the average percentage of students who passed math and reading, and the average overall percentage.\n",
    "\n",
    "# Calculate averages for the desired columns.\n",
    "size_math_scores = per_school_summary_df.groupby([\"School Size\"]).mean()[\"Average Math Score\"]\n",
    "\n",
    "size_reading_scores = per_school_summary_df.groupby([\"School Size\"]).mean()[\"Average Reading Score\"]\n",
    "\n",
    "size_passing_math = per_school_summary_df.groupby([\"School Size\"]).mean()[\"% Passing Math\"]\n",
    "\n",
    "size_passing_reading = per_school_summary_df.groupby([\"School Size\"]).mean()[\"% Passing Reading\"]\n",
    "\n",
    "size_overall_passing = per_school_summary_df.groupby([\"School Size\"]).mean()[\"% Overall Passing\"]"
   ]
  },
  {
   "cell_type": "code",
   "execution_count": null,
   "metadata": {},
   "outputs": [],
   "source": [
    "#Secion 4.12.4 Create a DataFrame for the Scores by School Size\n",
    "\n",
    "#add the average math and reading scores, the average percentage of students who passed math and reading, \n",
    "#and the average overall percentage to a new DataFrame.\n",
    "\n",
    "# Assemble into DataFrame.\n",
    "size_summary_df = pd.DataFrame({\n",
    "          \"Average Math Score\" : size_math_scores,\n",
    "          \"Average Reading Score\": size_reading_scores,\n",
    "          \"% Passing Math\": size_passing_math,\n",
    "          \"% Passing Reading\": size_passing_reading,\n",
    "          \"% Overall Passing\": size_overall_passing})\n",
    "\n",
    "size_summary_df"
   ]
  },
  {
   "cell_type": "code",
   "execution_count": null,
   "metadata": {},
   "outputs": [],
   "source": [
    "#Format the DataFrame\n",
    "\n",
    "# Formatting.\n",
    "size_summary_df[\"Average Math Score\"] = size_summary_df[\"Average Math Score\"].map(\"{:.1f}\".format)\n",
    "\n",
    "size_summary_df[\"Average Reading Score\"] = size_summary_df[\"Average Reading Score\"].map(\"{:.1f}\".format)\n",
    "\n",
    "size_summary_df[\"% Passing Math\"] = size_summary_df[\"% Passing Math\"].map(\"{:.0f}\".format)\n",
    "\n",
    "size_summary_df[\"% Passing Reading\"] = size_summary_df[\"% Passing Reading\"].map(\"{:.0f}\".format)\n",
    "\n",
    "size_summary_df[\"% Overall Passing\"] = size_summary_df[\"% Overall Passing\"].map(\"{:.0f}\".format)\n"
   ]
  },
  {
   "cell_type": "code",
   "execution_count": null,
   "metadata": {},
   "outputs": [],
   "source": [
    "size_summary_df\n"
   ]
  },
  {
   "cell_type": "code",
   "execution_count": null,
   "metadata": {},
   "outputs": [],
   "source": [
    "#4.13.! Group by School Type\n",
    "\n",
    "# create a DataFrame that groups the same averages and percentages by the type of school, district and charter. \n",
    "\n",
    "# Calculate averages for the desired columns.\n",
    "type_math_scores = per_school_summary_df.groupby([\"School Type\"]).mean()[\"Average Math Score\"]\n",
    "\n",
    "type_reading_scores = per_school_summary_df.groupby([\"School Type\"]).mean()[\"Average Reading Score\"]\n",
    "\n",
    "type_passing_math = per_school_summary_df.groupby([\"School Type\"]).mean()[\"% Passing Math\"]\n",
    "\n",
    "type_passing_reading = per_school_summary_df.groupby([\"School Type\"]).mean()[\"% Passing Reading\"]\n",
    "\n",
    "type_overall_passing = per_school_summary_df.groupby([\"School Type\"]).mean()[\"% Overall Passing\"]"
   ]
  },
  {
   "cell_type": "code",
   "execution_count": null,
   "metadata": {},
   "outputs": [],
   "source": [
    "#Section 4.13.2 Create a DataFrame for the Scores by School Type\n",
    "\n",
    "#new dataframe type_summary_df\n",
    "\n"
   ]
  },
  {
   "cell_type": "code",
   "execution_count": null,
   "metadata": {},
   "outputs": [],
   "source": [
    "# Assemble into DataFrame.\n",
    "type_summary_df = pd.DataFrame({\n",
    "          \"Average Math Score\" : type_math_scores,\n",
    "          \"Average Reading Score\": type_reading_scores,\n",
    "          \"% Passing Math\": type_passing_math,\n",
    "          \"% Passing Reading\": type_passing_reading,\n",
    "          \"% Overall Passing\": type_overall_passing})\n",
    "\n",
    "type_summary_df"
   ]
  },
  {
   "cell_type": "code",
   "execution_count": null,
   "metadata": {},
   "outputs": [],
   "source": [
    "#Formate the DataFrame\n",
    "\n",
    "# Formatting\n",
    "type_summary_df[\"Average Math Score\"] = type_summary_df[\"Average Math Score\"].map(\"{:.1f}\".format)\n",
    "\n",
    "type_summary_df[\"Average Reading Score\"] = type_summary_df[\"Average Reading Score\"].map(\"{:.1f}\".format)\n",
    "\n",
    "type_summary_df[\"% Passing Math\"] = type_summary_df[\"% Passing Math\"].map(\"{:.0f}\".format)\n",
    "\n",
    "type_summary_df[\"% Passing Reading\"] = type_summary_df[\"% Passing Reading\"].map(\"{:.0f}\".format)\n",
    "\n",
    "type_summary_df[\"% Overall Passing\"] = type_summary_df[\"% Overall Passing\"].map(\"{:.0f}\".format)\n",
    "\n",
    "type_summary_df"
   ]
  },
  {
   "cell_type": "code",
   "execution_count": null,
   "metadata": {},
   "outputs": [],
   "source": []
  }
 ],
 "metadata": {
  "kernelspec": {
   "display_name": "PythonData",
   "language": "python",
   "name": "pythondata"
  },
  "language_info": {
   "codemirror_mode": {
    "name": "ipython",
    "version": 3
   },
   "file_extension": ".py",
   "mimetype": "text/x-python",
   "name": "python",
   "nbconvert_exporter": "python",
   "pygments_lexer": "ipython3",
   "version": "3.8.5"
  }
 },
 "nbformat": 4,
 "nbformat_minor": 4
}
